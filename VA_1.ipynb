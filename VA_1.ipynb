{
  "nbformat": 4,
  "nbformat_minor": 0,
  "metadata": {
    "colab": {
      "provenance": [],
      "gpuType": "T4"
    },
    "kernelspec": {
      "name": "python3",
      "display_name": "Python 3"
    },
    "language_info": {
      "name": "python"
    },
    "accelerator": "GPU"
  },
  "cells": [
    {
      "cell_type": "markdown",
      "source": [
        "[![](https://mermaid.ink/img/pako:eNo1jkELgkAUhP_K450M9A94CEohgg5SQlDb4eGuKemurG-pUP97a-JtZr5hmAELIxXGWDbmXVRkGU5noXf3kuKSItcrCzsna_OAKNqO16ruuznKjiPsg1x9eCP0fmYwJhXxIcsXmASrNY47x0A98FJP_lN5fhkhvS_jGGKrbEu19FcGoQEEcqVaJTD2UpJ9CRR68j1ybC5fXWDM1qkQXSeJVVrT01KL_nTT-7QjfTNm9dMPgGJNAQ?type=png)](https://mermaid.live/edit#pako:eNo1jkELgkAUhP_K450M9A94CEohgg5SQlDb4eGuKemurG-pUP97a-JtZr5hmAELIxXGWDbmXVRkGU5noXf3kuKSItcrCzsna_OAKNqO16ruuznKjiPsg1x9eCP0fmYwJhXxIcsXmASrNY47x0A98FJP_lN5fhkhvS_jGGKrbEu19FcGoQEEcqVaJTD2UpJ9CRR68j1ybC5fXWDM1qkQXSeJVVrT01KL_nTT-7QjfTNm9dMPgGJNAQ)"
      ],
      "metadata": {
        "id": "vpqMt6tjzRgu"
      }
    },
    {
      "cell_type": "markdown",
      "source": [
        "# **Installing all necessary libraries**"
      ],
      "metadata": {
        "id": "9YdV-83IZoIt"
      }
    },
    {
      "cell_type": "code",
      "source": [
        "!pip install -U openai-whisper\n",
        "!pip install gradio\n",
        "!pip install openai\n",
        "!pip install TTS"
      ],
      "metadata": {
        "id": "k4h9QkVz1rI7"
      },
      "execution_count": null,
      "outputs": []
    },
    {
      "cell_type": "markdown",
      "source": [
        "# **Importing all necessary libraries**"
      ],
      "metadata": {
        "id": "j_dp5c6UZw9V"
      }
    },
    {
      "cell_type": "code",
      "execution_count": null,
      "metadata": {
        "id": "mDY566LN1o3r"
      },
      "outputs": [],
      "source": [
        "import whisper\n",
        "import gradio as gr\n",
        "import openai\n",
        "from TTS.api import TTS\n",
        "\n",
        "import warnings\n",
        "warnings.filterwarnings('ignore')"
      ]
    },
    {
      "cell_type": "markdown",
      "source": [
        "## **Text to Speech (TTS) part**"
      ],
      "metadata": {
        "id": "qLlGH5gJhSsR"
      }
    },
    {
      "cell_type": "code",
      "source": [
        "TTS.list_models()"
      ],
      "metadata": {
        "id": "GEnUeFIzhW2T"
      },
      "execution_count": null,
      "outputs": []
    },
    {
      "cell_type": "code",
      "source": [
        "# lets take one random model (en)\n",
        "model_name = TTS.list_models()[9]\n",
        "tts = TTS(model_name)"
      ],
      "metadata": {
        "id": "AD2kCO5WiGbj"
      },
      "execution_count": null,
      "outputs": []
    },
    {
      "cell_type": "markdown",
      "source": [
        "## **Whisper part**"
      ],
      "metadata": {
        "id": "Z-OhCiKDi5Y_"
      }
    },
    {
      "cell_type": "code",
      "source": [
        "whisper.available_models()"
      ],
      "metadata": {
        "id": "8CoM7BmxjEo5"
      },
      "execution_count": null,
      "outputs": []
    },
    {
      "cell_type": "code",
      "source": [
        "# model can be passed as dropdown in gradio UI\n",
        "model = whisper.load_model(\"tiny.en\")\n",
        "model.device"
      ],
      "metadata": {
        "id": "7Wo0q2-titC0"
      },
      "execution_count": null,
      "outputs": []
    },
    {
      "cell_type": "markdown",
      "source": [
        "## **CHAT GPT PART**\n"
      ],
      "metadata": {
        "id": "PwtieD97ok2W"
      }
    },
    {
      "cell_type": "code",
      "source": [
        "import json\n",
        "with open('env_vars.json', 'r') as f:\n",
        "    env_vars = json.load(f)\n",
        "\n",
        "openai.api_key = env_vars[\"OPENAI_API_KEY\"]"
      ],
      "metadata": {
        "id": "oC1OV4Hy1_v5"
      },
      "execution_count": 9,
      "outputs": []
    },
    {
      "cell_type": "code",
      "source": [
        "messages = [\n",
        "    {\"role\": \"system\", \"content\": \"You are a helpful and kind AI Assistant.\"},\n",
        "]\n",
        "\n",
        "def chatgpt_api(input):\n",
        "    if input:\n",
        "        messages.append({\"role\": \"user\", \"content\": input})\n",
        "        chat = openai.ChatCompletion.create(\n",
        "            model=\"gpt-3.5-turbo\", messages=messages\n",
        "        )\n",
        "        reply = chat.choices[0].message.content\n",
        "        messages.append({\"role\": \"assistant\", \"content\": reply})\n",
        "        return reply"
      ],
      "metadata": {
        "id": "J8l4Fjq-JqW-"
      },
      "execution_count": 10,
      "outputs": []
    },
    {
      "cell_type": "markdown",
      "source": [
        "## **Main function to transcribe**"
      ],
      "metadata": {
        "id": "YJrJx2VDsvgk"
      }
    },
    {
      "cell_type": "code",
      "source": [
        "def transcribe(audio):\n",
        "    audio_to_text = model.transcribe(audio)[\"text\"]\n",
        "\n",
        "    text_to_audio = chatgpt_api(audio_to_text)\n",
        "\n",
        "    tts.tts_to_file(text=text_to_audio, file_path=\"output.wav\")\n",
        "\n",
        "    return (audio_to_text, text_to_audio, \"output.wav\")"
      ],
      "metadata": {
        "id": "cwpsKeA33tYD"
      },
      "execution_count": 11,
      "outputs": []
    },
    {
      "cell_type": "markdown",
      "source": [
        "## **Gradio UI**"
      ],
      "metadata": {
        "id": "di0rTQBrs3tN"
      }
    },
    {
      "cell_type": "code",
      "source": [
        "output_1 = gr.Textbox(label=\"YOUR QUESTION: \")\n",
        "output_2 = gr.Textbox(label=\"ANSWER(TEXT): \")\n",
        "output_3 = gr.Audio(label=\"ANSWER(AUDIO): \", upload=\"output.wav\")\n",
        "\n",
        "gr.Interface(\n",
        "    title = 'ASK ME ANYTHING!',\n",
        "    fn=transcribe,\n",
        "    inputs=[\n",
        "            gr.Audio(source=\"microphone\", type=\"filepath\"),\n",
        "            ],\n",
        "\n",
        "    outputs=[\n",
        "        output_1,  output_2, output_3\n",
        "    ]).launch(share=True)"
      ],
      "metadata": {
        "id": "nAn7UxMs3wk8"
      },
      "execution_count": null,
      "outputs": []
    }
  ]
}